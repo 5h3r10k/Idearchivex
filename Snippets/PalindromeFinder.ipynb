{
 "cells": [
  {
   "cell_type": "markdown",
   "metadata": {},
   "source": [
    "# Longest Palindrome Finder\n",
    "\n",
    "### Objective\n",
    "Given a string `s`, find the longest palindrome in `s`.\n",
    "\n",
    "### Input Format\n",
    "Input consists of a single string `s`."
   ]
  },
  {
   "cell_type": "markdown",
   "metadata": {},
   "source": [
    "## What is a Palindrome?\n",
    "A palindrome is a string that is the same forwards and backwards. To check if a string is a palindrome, we can use the following function:"
   ]
  },
  {
   "cell_type": "code",
   "execution_count": 11,
   "metadata": {},
   "outputs": [],
   "source": [
    "def is_palindrome(s:str):\n",
    "    '''\n",
    "    Returns true if s is a palindrome, else false\n",
    "    '''\n",
    "    return s == s[::-1]"
   ]
  },
  {
   "cell_type": "markdown",
   "metadata": {},
   "source": [
    "## Algorithms\n",
    "\n",
    "Here are 2 algorithms to find the longest palindrome in a string."
   ]
  },
  {
   "cell_type": "markdown",
   "metadata": {},
   "source": [
    "### Algorithm 1: Brute Force\n",
    "\n",
    "This algorithm iterates through every possible substring of the string and checks if it is a palindrome. It then keeps track of the longest palindrome it finds.\n",
    "\n",
    "For example, let's say we have the string `s = \"abccba\"`. We will iterate through all the substrings by starting at each letter and going to the end of the string:\n",
    "\n",
    "```\n",
    "\"a\", \"ab\", \"abc\", \"abcc\", \"abccb\", \"abccba\"\n",
    "\"b\", \"bc\", \"bcc\", \"bccb\", \"bccba\"\n",
    "\"c\", \"cc\", \"ccb\", \"ccba\"\n",
    "\"c\", \"cb\", \"cba\"\n",
    "\"b\", \"ba\"\n",
    "\"a\"\n",
    "```\n",
    "\n",
    "We will check each of these substrings to see if they are palindromes. Additionally, we will store the length of the longest palindrome found so far. Each palindrome found will have its length compared with the longest one found so far, and if a new longest palindrome is found, we will update the longest palindrome found."
   ]
  },
  {
   "cell_type": "code",
   "execution_count": 12,
   "metadata": {},
   "outputs": [],
   "source": [
    "def longestPalindrome1(s:str) -> str:\n",
    "    '''\n",
    "    Finds the longest palindrome in a string.\n",
    "    '''\n",
    "    longest = ''\n",
    "    iter = 1\n",
    "    for i in range(len(s)):\n",
    "        for j in range(i, len(s)):\n",
    "            print(\"Iteration\",iter,\": \",s[i:j+1],\" - is it a palindrome? \", is_palindrome(s[i:j+1]))\n",
    "            if is_palindrome(s[i:j+1]):\n",
    "                if len(s[i:j+1]) > len(longest):\n",
    "                    print(\"New longest palindrome found with length: \", len(s[i:j+1]))\n",
    "                    longest = s[i:j+1]\n",
    "            iter+=1\n",
    "    \n",
    "    return longest"
   ]
  },
  {
   "cell_type": "code",
   "execution_count": 13,
   "metadata": {},
   "outputs": [
    {
     "name": "stdout",
     "output_type": "stream",
     "text": [
      "Iteration 1 :  a  - is it a palindrome?  True\n",
      "New longest palindrome found with length:  1\n",
      "Iteration 2 :  ab  - is it a palindrome?  False\n",
      "Iteration 3 :  abc  - is it a palindrome?  False\n",
      "Iteration 4 :  abcc  - is it a palindrome?  False\n",
      "Iteration 5 :  abccb  - is it a palindrome?  False\n",
      "Iteration 6 :  abccba  - is it a palindrome?  True\n",
      "New longest palindrome found with length:  6\n",
      "Iteration 7 :  b  - is it a palindrome?  True\n",
      "Iteration 8 :  bc  - is it a palindrome?  False\n",
      "Iteration 9 :  bcc  - is it a palindrome?  False\n",
      "Iteration 10 :  bccb  - is it a palindrome?  True\n",
      "Iteration 11 :  bccba  - is it a palindrome?  False\n",
      "Iteration 12 :  c  - is it a palindrome?  True\n",
      "Iteration 13 :  cc  - is it a palindrome?  True\n",
      "Iteration 14 :  ccb  - is it a palindrome?  False\n",
      "Iteration 15 :  ccba  - is it a palindrome?  False\n",
      "Iteration 16 :  c  - is it a palindrome?  True\n",
      "Iteration 17 :  cb  - is it a palindrome?  False\n",
      "Iteration 18 :  cba  - is it a palindrome?  False\n",
      "Iteration 19 :  b  - is it a palindrome?  True\n",
      "Iteration 20 :  ba  - is it a palindrome?  False\n",
      "Iteration 21 :  a  - is it a palindrome?  True\n"
     ]
    },
    {
     "data": {
      "text/plain": [
       "'abccba'"
      ]
     },
     "execution_count": 13,
     "metadata": {},
     "output_type": "execute_result"
    }
   ],
   "source": [
    "s = \"abccba\"\n",
    "longestPalindrome1(s)"
   ]
  },
  {
   "cell_type": "markdown",
   "metadata": {},
   "source": [
    "So it works! But it is very slow. Notice how the longest palindrome was found in the 6th iteration, but we still have to iterate through all the substrings to make sure we don't miss any other palindromes.\n",
    "\n",
    "This is where algorithmic optimization comes in. For this purpose the amount of time taken is negligible, but as the string grows, the amount of time taken to find the longest palindrome grows exponentially."
   ]
  },
  {
   "cell_type": "code",
   "execution_count": 14,
   "metadata": {},
   "outputs": [
    {
     "name": "stdout",
     "output_type": "stream",
     "text": [
      "Iteration 1 :  a  - is it a palindrome?  True\n",
      "New longest palindrome found with length:  1\n",
      "Iteration 2 :  ab  - is it a palindrome?  False\n",
      "Iteration 3 :  abc  - is it a palindrome?  False\n",
      "Iteration 4 :  abcd  - is it a palindrome?  False\n",
      "Iteration 5 :  abcdr  - is it a palindrome?  False\n",
      "Iteration 6 :  abcdra  - is it a palindrome?  False\n",
      "Iteration 7 :  abcdrac  - is it a palindrome?  False\n",
      "Iteration 8 :  abcdrace  - is it a palindrome?  False\n",
      "Iteration 9 :  abcdracec  - is it a palindrome?  False\n",
      "Iteration 10 :  abcdraceca  - is it a palindrome?  False\n",
      "Iteration 11 :  abcdracecar  - is it a palindrome?  False\n",
      "Iteration 12 :  abcdracecars  - is it a palindrome?  False\n",
      "Iteration 13 :  abcdracecarsd  - is it a palindrome?  False\n",
      "Iteration 14 :  abcdracecarsdc  - is it a palindrome?  False\n",
      "Iteration 15 :  abcdracecarsdcb  - is it a palindrome?  False\n",
      "Iteration 16 :  abcdracecarsdcba  - is it a palindrome?  False\n",
      "Iteration 17 :  b  - is it a palindrome?  True\n",
      "Iteration 18 :  bc  - is it a palindrome?  False\n",
      "Iteration 19 :  bcd  - is it a palindrome?  False\n",
      "Iteration 20 :  bcdr  - is it a palindrome?  False\n",
      "Iteration 21 :  bcdra  - is it a palindrome?  False\n",
      "Iteration 22 :  bcdrac  - is it a palindrome?  False\n",
      "Iteration 23 :  bcdrace  - is it a palindrome?  False\n",
      "Iteration 24 :  bcdracec  - is it a palindrome?  False\n",
      "Iteration 25 :  bcdraceca  - is it a palindrome?  False\n",
      "Iteration 26 :  bcdracecar  - is it a palindrome?  False\n",
      "Iteration 27 :  bcdracecars  - is it a palindrome?  False\n",
      "Iteration 28 :  bcdracecarsd  - is it a palindrome?  False\n",
      "Iteration 29 :  bcdracecarsdc  - is it a palindrome?  False\n",
      "Iteration 30 :  bcdracecarsdcb  - is it a palindrome?  False\n",
      "Iteration 31 :  bcdracecarsdcba  - is it a palindrome?  False\n",
      "Iteration 32 :  c  - is it a palindrome?  True\n",
      "Iteration 33 :  cd  - is it a palindrome?  False\n",
      "Iteration 34 :  cdr  - is it a palindrome?  False\n",
      "Iteration 35 :  cdra  - is it a palindrome?  False\n",
      "Iteration 36 :  cdrac  - is it a palindrome?  False\n",
      "Iteration 37 :  cdrace  - is it a palindrome?  False\n",
      "Iteration 38 :  cdracec  - is it a palindrome?  False\n",
      "Iteration 39 :  cdraceca  - is it a palindrome?  False\n",
      "Iteration 40 :  cdracecar  - is it a palindrome?  False\n",
      "Iteration 41 :  cdracecars  - is it a palindrome?  False\n",
      "Iteration 42 :  cdracecarsd  - is it a palindrome?  False\n",
      "Iteration 43 :  cdracecarsdc  - is it a palindrome?  False\n",
      "Iteration 44 :  cdracecarsdcb  - is it a palindrome?  False\n",
      "Iteration 45 :  cdracecarsdcba  - is it a palindrome?  False\n",
      "Iteration 46 :  d  - is it a palindrome?  True\n",
      "Iteration 47 :  dr  - is it a palindrome?  False\n",
      "Iteration 48 :  dra  - is it a palindrome?  False\n",
      "Iteration 49 :  drac  - is it a palindrome?  False\n",
      "Iteration 50 :  drace  - is it a palindrome?  False\n",
      "Iteration 51 :  dracec  - is it a palindrome?  False\n",
      "Iteration 52 :  draceca  - is it a palindrome?  False\n",
      "Iteration 53 :  dracecar  - is it a palindrome?  False\n",
      "Iteration 54 :  dracecars  - is it a palindrome?  False\n",
      "Iteration 55 :  dracecarsd  - is it a palindrome?  False\n",
      "Iteration 56 :  dracecarsdc  - is it a palindrome?  False\n",
      "Iteration 57 :  dracecarsdcb  - is it a palindrome?  False\n",
      "Iteration 58 :  dracecarsdcba  - is it a palindrome?  False\n",
      "Iteration 59 :  r  - is it a palindrome?  True\n",
      "Iteration 60 :  ra  - is it a palindrome?  False\n",
      "Iteration 61 :  rac  - is it a palindrome?  False\n",
      "Iteration 62 :  race  - is it a palindrome?  False\n",
      "Iteration 63 :  racec  - is it a palindrome?  False\n",
      "Iteration 64 :  raceca  - is it a palindrome?  False\n",
      "Iteration 65 :  racecar  - is it a palindrome?  True\n",
      "New longest palindrome found with length:  7\n",
      "Iteration 66 :  racecars  - is it a palindrome?  False\n",
      "Iteration 67 :  racecarsd  - is it a palindrome?  False\n",
      "Iteration 68 :  racecarsdc  - is it a palindrome?  False\n",
      "Iteration 69 :  racecarsdcb  - is it a palindrome?  False\n",
      "Iteration 70 :  racecarsdcba  - is it a palindrome?  False\n",
      "Iteration 71 :  a  - is it a palindrome?  True\n",
      "Iteration 72 :  ac  - is it a palindrome?  False\n",
      "Iteration 73 :  ace  - is it a palindrome?  False\n",
      "Iteration 74 :  acec  - is it a palindrome?  False\n",
      "Iteration 75 :  aceca  - is it a palindrome?  True\n",
      "Iteration 76 :  acecar  - is it a palindrome?  False\n",
      "Iteration 77 :  acecars  - is it a palindrome?  False\n",
      "Iteration 78 :  acecarsd  - is it a palindrome?  False\n",
      "Iteration 79 :  acecarsdc  - is it a palindrome?  False\n",
      "Iteration 80 :  acecarsdcb  - is it a palindrome?  False\n",
      "Iteration 81 :  acecarsdcba  - is it a palindrome?  False\n",
      "Iteration 82 :  c  - is it a palindrome?  True\n",
      "Iteration 83 :  ce  - is it a palindrome?  False\n",
      "Iteration 84 :  cec  - is it a palindrome?  True\n",
      "Iteration 85 :  ceca  - is it a palindrome?  False\n",
      "Iteration 86 :  cecar  - is it a palindrome?  False\n",
      "Iteration 87 :  cecars  - is it a palindrome?  False\n",
      "Iteration 88 :  cecarsd  - is it a palindrome?  False\n",
      "Iteration 89 :  cecarsdc  - is it a palindrome?  False\n",
      "Iteration 90 :  cecarsdcb  - is it a palindrome?  False\n",
      "Iteration 91 :  cecarsdcba  - is it a palindrome?  False\n",
      "Iteration 92 :  e  - is it a palindrome?  True\n",
      "Iteration 93 :  ec  - is it a palindrome?  False\n",
      "Iteration 94 :  eca  - is it a palindrome?  False\n",
      "Iteration 95 :  ecar  - is it a palindrome?  False\n",
      "Iteration 96 :  ecars  - is it a palindrome?  False\n",
      "Iteration 97 :  ecarsd  - is it a palindrome?  False\n",
      "Iteration 98 :  ecarsdc  - is it a palindrome?  False\n",
      "Iteration 99 :  ecarsdcb  - is it a palindrome?  False\n",
      "Iteration 100 :  ecarsdcba  - is it a palindrome?  False\n",
      "Iteration 101 :  c  - is it a palindrome?  True\n",
      "Iteration 102 :  ca  - is it a palindrome?  False\n",
      "Iteration 103 :  car  - is it a palindrome?  False\n",
      "Iteration 104 :  cars  - is it a palindrome?  False\n",
      "Iteration 105 :  carsd  - is it a palindrome?  False\n",
      "Iteration 106 :  carsdc  - is it a palindrome?  False\n",
      "Iteration 107 :  carsdcb  - is it a palindrome?  False\n",
      "Iteration 108 :  carsdcba  - is it a palindrome?  False\n",
      "Iteration 109 :  a  - is it a palindrome?  True\n",
      "Iteration 110 :  ar  - is it a palindrome?  False\n",
      "Iteration 111 :  ars  - is it a palindrome?  False\n",
      "Iteration 112 :  arsd  - is it a palindrome?  False\n",
      "Iteration 113 :  arsdc  - is it a palindrome?  False\n",
      "Iteration 114 :  arsdcb  - is it a palindrome?  False\n",
      "Iteration 115 :  arsdcba  - is it a palindrome?  False\n",
      "Iteration 116 :  r  - is it a palindrome?  True\n",
      "Iteration 117 :  rs  - is it a palindrome?  False\n",
      "Iteration 118 :  rsd  - is it a palindrome?  False\n",
      "Iteration 119 :  rsdc  - is it a palindrome?  False\n",
      "Iteration 120 :  rsdcb  - is it a palindrome?  False\n",
      "Iteration 121 :  rsdcba  - is it a palindrome?  False\n",
      "Iteration 122 :  s  - is it a palindrome?  True\n",
      "Iteration 123 :  sd  - is it a palindrome?  False\n",
      "Iteration 124 :  sdc  - is it a palindrome?  False\n",
      "Iteration 125 :  sdcb  - is it a palindrome?  False\n",
      "Iteration 126 :  sdcba  - is it a palindrome?  False\n",
      "Iteration 127 :  d  - is it a palindrome?  True\n",
      "Iteration 128 :  dc  - is it a palindrome?  False\n",
      "Iteration 129 :  dcb  - is it a palindrome?  False\n",
      "Iteration 130 :  dcba  - is it a palindrome?  False\n",
      "Iteration 131 :  c  - is it a palindrome?  True\n",
      "Iteration 132 :  cb  - is it a palindrome?  False\n",
      "Iteration 133 :  cba  - is it a palindrome?  False\n",
      "Iteration 134 :  b  - is it a palindrome?  True\n",
      "Iteration 135 :  ba  - is it a palindrome?  False\n",
      "Iteration 136 :  a  - is it a palindrome?  True\n"
     ]
    },
    {
     "data": {
      "text/plain": [
       "'racecar'"
      ]
     },
     "execution_count": 14,
     "metadata": {},
     "output_type": "execute_result"
    }
   ],
   "source": [
    "s = 'abcdracecarsdcba'\n",
    "longestPalindrome1(s)"
   ]
  },
  {
   "cell_type": "markdown",
   "metadata": {},
   "source": [
    "The function works again! But now it took 136 iterations to return the longest palindrome, even though it was found well before that. Imagine if we had a string of length 100,000. We would have to iterate through all the substrings of length 100,000 to find the longest palindrome. This is a very large number of iterations. Thus, it's time to optimize the algorithm."
   ]
  },
  {
   "cell_type": "markdown",
   "metadata": {},
   "source": [
    "### Algorithm 2: Large to Small\n",
    "\n",
    "This algorithm starts with the largest possible substring and works its way down to the smallest possible substring.\n",
    "\n",
    "Let's say we have the string `s = \"abccba\"`. The largest possible substring, is the length of the string itself. We can then reduce the length of the substring by 1 each pass and check all possible substrings of that length.\n",
    "\n",
    "```\n",
    "Length 6: \"abccba\"\n",
    "Length 5: \"abccb\", \"bccba\"\n",
    "Length 4: \"abcc\", \"bccb\", \"ccba\"\n",
    "Length 3: \"abc\", \"bcc\", \"ccb\", \"cba\"\n",
    "Length 2: \"ab\", \"bc\", \"cb\", \"ba\"\n",
    "Length 1: \"a\", \"b\", \"c\", \"c\", \"b\", \"a\"\n",
    "```\n",
    "\n",
    "Since we're looking for the longest palindrome, the first palindrome found will be the longest one. This algorithm is much faster than the brute force algorithm. In this case, it took 1 iteration to find the longest palindrome."
   ]
  },
  {
   "cell_type": "code",
   "execution_count": 15,
   "metadata": {},
   "outputs": [],
   "source": [
    "def longestPalindrome2(s:str) -> str:\n",
    "    '''\n",
    "    Finds the longest palindrome in a string.\n",
    "    '''\n",
    "    testLen = len(s)\n",
    "    iter = 1\n",
    "    for l in range(testLen, 0, -1):\n",
    "        c=0\n",
    "        while c+l<=testLen:\n",
    "            test=s[c:c+l]\n",
    "            print(\"Iteration \",iter,\": \",test,\" - is it a palindrome? \", is_palindrome(test))\n",
    "            if is_palindrome(s[c:c+l]): return s[c:c+l]\n",
    "            c+=1\n",
    "            iter+=1\n",
    "    return \"none\""
   ]
  },
  {
   "cell_type": "code",
   "execution_count": 16,
   "metadata": {},
   "outputs": [
    {
     "name": "stdout",
     "output_type": "stream",
     "text": [
      "Iteration  1 :  abccba  - is it a palindrome?  True\n"
     ]
    },
    {
     "data": {
      "text/plain": [
       "'abccba'"
      ]
     },
     "execution_count": 16,
     "metadata": {},
     "output_type": "execute_result"
    }
   ],
   "source": [
    "s = 'abccba'\n",
    "longestPalindrome2(s)"
   ]
  },
  {
   "cell_type": "markdown",
   "metadata": {},
   "source": [
    "Found in 1 iteration as we predicted!\n",
    "\n",
    "Let's try with the longer string `s = \"abcdracecarsdcba\"`."
   ]
  },
  {
   "cell_type": "code",
   "execution_count": 17,
   "metadata": {},
   "outputs": [
    {
     "name": "stdout",
     "output_type": "stream",
     "text": [
      "Iteration  1 :  abcdracecarsdcba  - is it a palindrome?  False\n",
      "Iteration  2 :  abcdracecarsdcb  - is it a palindrome?  False\n",
      "Iteration  3 :  bcdracecarsdcba  - is it a palindrome?  False\n",
      "Iteration  4 :  abcdracecarsdc  - is it a palindrome?  False\n",
      "Iteration  5 :  bcdracecarsdcb  - is it a palindrome?  False\n",
      "Iteration  6 :  cdracecarsdcba  - is it a palindrome?  False\n",
      "Iteration  7 :  abcdracecarsd  - is it a palindrome?  False\n",
      "Iteration  8 :  bcdracecarsdc  - is it a palindrome?  False\n",
      "Iteration  9 :  cdracecarsdcb  - is it a palindrome?  False\n",
      "Iteration  10 :  dracecarsdcba  - is it a palindrome?  False\n",
      "Iteration  11 :  abcdracecars  - is it a palindrome?  False\n",
      "Iteration  12 :  bcdracecarsd  - is it a palindrome?  False\n",
      "Iteration  13 :  cdracecarsdc  - is it a palindrome?  False\n",
      "Iteration  14 :  dracecarsdcb  - is it a palindrome?  False\n",
      "Iteration  15 :  racecarsdcba  - is it a palindrome?  False\n",
      "Iteration  16 :  abcdracecar  - is it a palindrome?  False\n",
      "Iteration  17 :  bcdracecars  - is it a palindrome?  False\n",
      "Iteration  18 :  cdracecarsd  - is it a palindrome?  False\n",
      "Iteration  19 :  dracecarsdc  - is it a palindrome?  False\n",
      "Iteration  20 :  racecarsdcb  - is it a palindrome?  False\n",
      "Iteration  21 :  acecarsdcba  - is it a palindrome?  False\n",
      "Iteration  22 :  abcdraceca  - is it a palindrome?  False\n",
      "Iteration  23 :  bcdracecar  - is it a palindrome?  False\n",
      "Iteration  24 :  cdracecars  - is it a palindrome?  False\n",
      "Iteration  25 :  dracecarsd  - is it a palindrome?  False\n",
      "Iteration  26 :  racecarsdc  - is it a palindrome?  False\n",
      "Iteration  27 :  acecarsdcb  - is it a palindrome?  False\n",
      "Iteration  28 :  cecarsdcba  - is it a palindrome?  False\n",
      "Iteration  29 :  abcdracec  - is it a palindrome?  False\n",
      "Iteration  30 :  bcdraceca  - is it a palindrome?  False\n",
      "Iteration  31 :  cdracecar  - is it a palindrome?  False\n",
      "Iteration  32 :  dracecars  - is it a palindrome?  False\n",
      "Iteration  33 :  racecarsd  - is it a palindrome?  False\n",
      "Iteration  34 :  acecarsdc  - is it a palindrome?  False\n",
      "Iteration  35 :  cecarsdcb  - is it a palindrome?  False\n",
      "Iteration  36 :  ecarsdcba  - is it a palindrome?  False\n",
      "Iteration  37 :  abcdrace  - is it a palindrome?  False\n",
      "Iteration  38 :  bcdracec  - is it a palindrome?  False\n",
      "Iteration  39 :  cdraceca  - is it a palindrome?  False\n",
      "Iteration  40 :  dracecar  - is it a palindrome?  False\n",
      "Iteration  41 :  racecars  - is it a palindrome?  False\n",
      "Iteration  42 :  acecarsd  - is it a palindrome?  False\n",
      "Iteration  43 :  cecarsdc  - is it a palindrome?  False\n",
      "Iteration  44 :  ecarsdcb  - is it a palindrome?  False\n",
      "Iteration  45 :  carsdcba  - is it a palindrome?  False\n",
      "Iteration  46 :  abcdrac  - is it a palindrome?  False\n",
      "Iteration  47 :  bcdrace  - is it a palindrome?  False\n",
      "Iteration  48 :  cdracec  - is it a palindrome?  False\n",
      "Iteration  49 :  draceca  - is it a palindrome?  False\n",
      "Iteration  50 :  racecar  - is it a palindrome?  True\n"
     ]
    },
    {
     "data": {
      "text/plain": [
       "'racecar'"
      ]
     },
     "execution_count": 17,
     "metadata": {},
     "output_type": "execute_result"
    }
   ],
   "source": [
    "s = 'abcdracecarsdcba'\n",
    "longestPalindrome2(s)"
   ]
  },
  {
   "cell_type": "markdown",
   "metadata": {},
   "source": [
    "50 iterations! Definitely a lot less than the brute force algorithm's 136 iterations."
   ]
  },
  {
   "cell_type": "markdown",
   "metadata": {},
   "source": [
    "### Recap\n",
    "\n",
    "2 easy algorithms to find the longest palindrome in a string: **`Brute Force`** and **`Large to Small`**.\n",
    "\n",
    "For both of these algorithms the helper function `isPalindrome` is used to check if a substring is a palindrome."
   ]
  },
  {
   "cell_type": "code",
   "execution_count": 18,
   "metadata": {},
   "outputs": [],
   "source": [
    "def isPalindrome(s:str) -> bool:\n",
    "    '''\n",
    "    Returns true if s is a palindrome, else false\n",
    "    '''\n",
    "    return s == s[::-1]"
   ]
  },
  {
   "cell_type": "markdown",
   "metadata": {},
   "source": [
    "#### Brute Force\n",
    "\n",
    "This algorithm will return the first-occurring longest palindrome in the string after going through every possible substring. If there are no palindromes in the string, it will return the string `'none'`."
   ]
  },
  {
   "cell_type": "code",
   "execution_count": 19,
   "metadata": {},
   "outputs": [],
   "source": [
    "def brute_force(s:str) -> str:\n",
    "    '''\n",
    "    Finds the longest palindrome in a string, brute force method.\n",
    "    '''\n",
    "    longest = ''\n",
    "    for i in range(len(s)):\n",
    "        for j in range(i, len(s)):\n",
    "            if is_palindrome(s[i:j+1]):\n",
    "                if len(s[i:j+1]) > len(longest):\n",
    "                    longest = s[i:j+1]\n",
    "    return longest if len(longest) > 1 else 'none'"
   ]
  },
  {
   "cell_type": "markdown",
   "metadata": {},
   "source": [
    "#### Large to Small\n",
    "\n",
    "This algorithm will return the first-occurring longest palindrome in the string as soon as it finds one. If there are no palindromes in the string, it will return the string `'none'`."
   ]
  },
  {
   "cell_type": "code",
   "execution_count": 20,
   "metadata": {},
   "outputs": [],
   "source": [
    "def large2small(s:str) -> str:\n",
    "    '''\n",
    "    Finds the longest palindrome in a string, large to small method.\n",
    "    '''\n",
    "    testLen = len(s)\n",
    "    for l in range(testLen, 0, -1):\n",
    "        c=0\n",
    "        if (l<2): return 'none'\n",
    "        while c+l<=testLen:\n",
    "            if isPalindrome(s[c:c+l]): return s[c:c+l]\n",
    "            c+=1"
   ]
  },
  {
   "cell_type": "markdown",
   "metadata": {},
   "source": [
    "## Conlcusion\n",
    "\n",
    "`Large to Small` is much faster than `Brute Force`. However, there are even faster algorithms that can be implemented!"
   ]
  }
 ],
 "metadata": {
  "kernelspec": {
   "display_name": "Python 3.9.9 64-bit",
   "language": "python",
   "name": "python3"
  },
  "language_info": {
   "codemirror_mode": {
    "name": "ipython",
    "version": 3
   },
   "file_extension": ".py",
   "mimetype": "text/x-python",
   "name": "python",
   "nbconvert_exporter": "python",
   "pygments_lexer": "ipython3",
   "version": "3.9.9"
  },
  "orig_nbformat": 4,
  "vscode": {
   "interpreter": {
    "hash": "aee8b7b246df8f9039afb4144a1f6fd8d2ca17a180786b69acc140d282b71a49"
   }
  }
 },
 "nbformat": 4,
 "nbformat_minor": 2
}
